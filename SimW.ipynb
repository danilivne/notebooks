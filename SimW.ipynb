{
 "cells": [
  {
   "cell_type": "markdown",
   "metadata": {},
   "source": [
    "# Feature Reduction For Unsupervised Learning\n",
    "\n",
    "### Problem\n",
    "- Assume we are monitoring traffic for all (most) web sites\n",
    "- We have as input a large sparse binary matrix of sites (millions) x users (millions). 1 - the user vistied the site this month, 0 - otherwise.\n",
    "- No further information on users.\n",
    "- We have a small set of sites (panel) where we get full information: surfers demographic information etc.\n",
    "- We are required to predict the distribution of gender (male/female) of all sites next month\n",
    "\n",
    "![alt text](http://www.marketingmediawizard.com/wp-content/uploads/2017/12/1514750453_388_how-to-improve-your-website-content-using-key-metrics-about-visitors-%E2%80%A2-tom-dupuis.png)\n",
    "\n",
    "### Basic approaches\n",
    "- Using an unsupervised clustering algorithm to partition the sites to clusters, selecting the known samples as centroids\n",
    "    - K-Means\n",
    "    - Jaccard index\n",
    "    - Hamming distance\n",
    "- This is a problematic approach since the dataset is huge and sparse\n",
    "- Another approach that was considered is active learning (https://en.wikipedia.org/wiki/Active_learning_(machine_learning))\n",
    "    - Using the panel data for running ensemble methods to select more points. Query users for those points, and add them to the model.\n",
    "\n",
    "### Embeddings\n",
    "- When all approaches seem to fail, another strategy was chosen - dimensionality reduction\n",
    "- Somehow transferring the large metrix (Sites x Users) to a smaller one (Sites x Embedding) and then running clustering algorithms on it\n",
    "\n",
    "### Algorithm\n",
    "1. Split the gender percentages ([0...1]) to k=10 buckets [0,0.1,0.2,...,1.]\n",
    "2. Map each row from the panel to its respective bucket, based on the distribution of users\n",
    "    - WebsiteA(0.73) -> [0,0,0,...,1,0,0]\n",
    "    - WebsiteB(0.26) -> [0,0,1,...,0]\n",
    "    \n",
    "   Call this matrix $D_1$. Note that $Dim(D_1) = |L|*|k|$ where L is the size of the panel.\n",
    "3. Define a new matrix $D_2 = Users * L$ - a binary matrix of all users and the panel sites (as before 1 means visited and 0 otherwise)\n",
    "4. Define a new matrix $D = D_2 * D_1$. Note that $Dim(D) = Users * k$\n",
    "   \n",
    "   Notice the meaning of the new matrix D. For each user and 'latent' feature $i<=k$, $x_{ui}$ is the binary-weighted sum of coordinate k, in the panel data.\n",
    "       - For practical purposes it is custumed to scale this matrix to values between 0 and 1.\n",
    "5. Now we can use D to for dimension reduction. Denote by $P = Sites*Users$ the original matrix. Then $F=P*D$ will reduce the number of columns from U (all users) to k.\n",
    "\n",
    "  $Dim(F) = (|S|*|U|) * (|U|*k) = |S|*k$\n",
    "\n",
    "### Summary\n",
    "- Plotting the new dataset (matrix P) we see that for \"male oriented\" sites like www.nba.com we get a 'negative' skew distribution\n",
    "![alt text](https://upload.wikimedia.org/wikipedia/commons/thumb/f/f8/Negative_and_positive_skew_diagrams_%28English%29.svg/446px-Negative_and_positive_skew_diagrams_%28English%29.svg.png)\n",
    "while for \"female oriented\" sites like www.forever21.com it is the other way around.\n",
    "- The new dataset is much easier to handle and search for patterns (clusters etc.)\n",
    "- This method was easily extended to categrical target variables such as the age of visitors. Here we don't need artificial buckets since the data is already categorized."
   ]
  },
  {
   "cell_type": "code",
   "execution_count": null,
   "metadata": {},
   "outputs": [],
   "source": []
  }
 ],
 "metadata": {
  "kernelspec": {
   "display_name": "Python 3",
   "language": "python",
   "name": "python3"
  },
  "language_info": {
   "codemirror_mode": {
    "name": "ipython",
    "version": 3
   },
   "file_extension": ".py",
   "mimetype": "text/x-python",
   "name": "python",
   "nbconvert_exporter": "python",
   "pygments_lexer": "ipython3",
   "version": "3.6.4"
  }
 },
 "nbformat": 4,
 "nbformat_minor": 2
}
